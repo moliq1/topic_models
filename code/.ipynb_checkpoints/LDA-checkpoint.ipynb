{
 "cells": [
  {
   "cell_type": "code",
   "execution_count": 1,
   "metadata": {
    "collapsed": true
   },
   "outputs": [],
   "source": [
    "import pandas as pd"
   ]
  },
  {
   "cell_type": "code",
   "execution_count": 2,
   "metadata": {
    "collapsed": true
   },
   "outputs": [],
   "source": [
    "data = pd.read_csv('2016_1.csv')"
   ]
  },
  {
   "cell_type": "code",
   "execution_count": 3,
   "metadata": {
    "collapsed": false
   },
   "outputs": [
    {
     "data": {
      "text/html": [
       "<div>\n",
       "<table border=\"1\" class=\"dataframe\">\n",
       "  <thead>\n",
       "    <tr style=\"text-align: right;\">\n",
       "      <th></th>\n",
       "      <th>RT</th>\n",
       "      <th>SR</th>\n",
       "      <th>A1</th>\n",
       "      <th>T1</th>\n",
       "      <th>AD</th>\n",
       "      <th>FD</th>\n",
       "      <th>ID</th>\n",
       "      <th>CL</th>\n",
       "      <th>AB</th>\n",
       "      <th>DB</th>\n",
       "      <th>LA</th>\n",
       "      <th>DS</th>\n",
       "    </tr>\n",
       "  </thead>\n",
       "  <tbody>\n",
       "    <tr>\n",
       "      <th>0</th>\n",
       "      <td>Patent</td>\n",
       "      <td>1</td>\n",
       "      <td>李玲;陈思繁;宋浩</td>\n",
       "      <td>一种含有石墨烯的共混膜及其制备方法</td>\n",
       "      <td>518060 广东省深圳市南山区南海大道3688号</td>\n",
       "      <td>2016-01-06</td>\n",
       "      <td>CN105218987A</td>\n",
       "      <td>发明专利</td>\n",
       "      <td>本发明适用于太阳能电池背膜的制备,提供了一种含有石墨烯的共混膜及其制备方法,所述共混膜为二氧...</td>\n",
       "      <td>中国专利</td>\n",
       "      <td>NaN</td>\n",
       "      <td>CNKI</td>\n",
       "    </tr>\n",
       "    <tr>\n",
       "      <th>1</th>\n",
       "      <td>Patent</td>\n",
       "      <td>1</td>\n",
       "      <td>党渭铭;顾晨海</td>\n",
       "      <td>一种化学法石墨烯生产系统</td>\n",
       "      <td>214142 江苏省无锡市国家高新技术产业开发区华友东路6号</td>\n",
       "      <td>2016-01-13</td>\n",
       "      <td>CN204958408U</td>\n",
       "      <td>实用新型</td>\n",
       "      <td>本实用新型公开了一种化学法石墨烯生产系统,具有反应釜,所述反应釜顶部具有数个加料口,其特征在...</td>\n",
       "      <td>中国专利</td>\n",
       "      <td>NaN</td>\n",
       "      <td>CNKI</td>\n",
       "    </tr>\n",
       "    <tr>\n",
       "      <th>2</th>\n",
       "      <td>Patent</td>\n",
       "      <td>1</td>\n",
       "      <td>蒋永华;栗建民;郝建东;张维</td>\n",
       "      <td>磺化石墨烯金属盐固态聚合物电解质及其制备方法和应用</td>\n",
       "      <td>215000 江苏省苏州市工业园区星湖街218号生物纳米园A4楼112室</td>\n",
       "      <td>2016-01-06</td>\n",
       "      <td>CN105218992A</td>\n",
       "      <td>发明专利</td>\n",
       "      <td>本发明公开了一种磺化石墨烯金属盐固态聚合物电解质及其制备方法和应用。该磺化石墨烯金属盐固态聚...</td>\n",
       "      <td>中国专利</td>\n",
       "      <td>NaN</td>\n",
       "      <td>CNKI</td>\n",
       "    </tr>\n",
       "    <tr>\n",
       "      <th>3</th>\n",
       "      <td>Patent</td>\n",
       "      <td>1</td>\n",
       "      <td>黄杰;沈政</td>\n",
       "      <td>一种改性石墨烯-聚乙烯醇复合薄膜的制备方法</td>\n",
       "      <td>400054 重庆市巴南区李家沱红光大道69号</td>\n",
       "      <td>2016-01-06</td>\n",
       "      <td>CN105218996A</td>\n",
       "      <td>发明专利</td>\n",
       "      <td>本发明公开了一种改性石墨烯-聚乙烯醇复合薄膜的制备方法,本发明的改性剂选用7-羟基-4-甲基...</td>\n",
       "      <td>中国专利</td>\n",
       "      <td>NaN</td>\n",
       "      <td>CNKI</td>\n",
       "    </tr>\n",
       "    <tr>\n",
       "      <th>4</th>\n",
       "      <td>Patent</td>\n",
       "      <td>1</td>\n",
       "      <td>张弛;王爱健;虞王;宋京宝;钱军;龙凌亮</td>\n",
       "      <td>卟啉-还原氧化石墨烯非线性光学材料及其制备方法</td>\n",
       "      <td>212013 江苏省镇江市京口区学府路301号</td>\n",
       "      <td>2016-01-06</td>\n",
       "      <td>CN105218556A</td>\n",
       "      <td>发明专利</td>\n",
       "      <td>本发明属于军工强激光防护材料领域,涉及卟啉-还原氧化石墨烯非线性光学材料及其制备方法,具体为...</td>\n",
       "      <td>中国专利</td>\n",
       "      <td>NaN</td>\n",
       "      <td>CNKI</td>\n",
       "    </tr>\n",
       "  </tbody>\n",
       "</table>\n",
       "</div>"
      ],
      "text/plain": [
       "       RT  SR                    A1                         T1  \\\n",
       "0  Patent   1             李玲;陈思繁;宋浩          一种含有石墨烯的共混膜及其制备方法   \n",
       "1  Patent   1               党渭铭;顾晨海               一种化学法石墨烯生产系统   \n",
       "2  Patent   1        蒋永华;栗建民;郝建东;张维  磺化石墨烯金属盐固态聚合物电解质及其制备方法和应用   \n",
       "3  Patent   1                 黄杰;沈政      一种改性石墨烯-聚乙烯醇复合薄膜的制备方法   \n",
       "4  Patent   1  张弛;王爱健;虞王;宋京宝;钱军;龙凌亮    卟啉-还原氧化石墨烯非线性光学材料及其制备方法   \n",
       "\n",
       "                                     AD          FD            ID    CL  \\\n",
       "0             518060 广东省深圳市南山区南海大道3688号  2016-01-06  CN105218987A  发明专利   \n",
       "1        214142 江苏省无锡市国家高新技术产业开发区华友东路6号  2016-01-13  CN204958408U  实用新型   \n",
       "2  215000 江苏省苏州市工业园区星湖街218号生物纳米园A4楼112室  2016-01-06  CN105218992A  发明专利   \n",
       "3               400054 重庆市巴南区李家沱红光大道69号  2016-01-06  CN105218996A  发明专利   \n",
       "4               212013 江苏省镇江市京口区学府路301号  2016-01-06  CN105218556A  发明专利   \n",
       "\n",
       "                                                  AB    DB  LA    DS  \n",
       "0  本发明适用于太阳能电池背膜的制备,提供了一种含有石墨烯的共混膜及其制备方法,所述共混膜为二氧...  中国专利 NaN  CNKI  \n",
       "1  本实用新型公开了一种化学法石墨烯生产系统,具有反应釜,所述反应釜顶部具有数个加料口,其特征在...  中国专利 NaN  CNKI  \n",
       "2  本发明公开了一种磺化石墨烯金属盐固态聚合物电解质及其制备方法和应用。该磺化石墨烯金属盐固态聚...  中国专利 NaN  CNKI  \n",
       "3  本发明公开了一种改性石墨烯-聚乙烯醇复合薄膜的制备方法,本发明的改性剂选用7-羟基-4-甲基...  中国专利 NaN  CNKI  \n",
       "4  本发明属于军工强激光防护材料领域,涉及卟啉-还原氧化石墨烯非线性光学材料及其制备方法,具体为...  中国专利 NaN  CNKI  "
      ]
     },
     "execution_count": 3,
     "metadata": {},
     "output_type": "execute_result"
    }
   ],
   "source": [
    "data.head()"
   ]
  },
  {
   "cell_type": "code",
   "execution_count": 42,
   "metadata": {
    "collapsed": false
   },
   "outputs": [
    {
     "name": "stdout",
     "output_type": "stream",
     "text": [
      "/home/zack/my_paper\n"
     ]
    }
   ],
   "source": [
    "cd .."
   ]
  },
  {
   "cell_type": "markdown",
   "metadata": {},
   "source": [
    "## read data from disk"
   ]
  },
  {
   "cell_type": "code",
   "execution_count": 2,
   "metadata": {
    "collapsed": false
   },
   "outputs": [
    {
     "name": "stdout",
     "output_type": "stream",
     "text": [
      "/home/zack/my_paper\n"
     ]
    }
   ],
   "source": [
    "cd .."
   ]
  },
  {
   "cell_type": "code",
   "execution_count": 35,
   "metadata": {
    "collapsed": false
   },
   "outputs": [
    {
     "name": "stdout",
     "output_type": "stream",
     "text": [
      "2013_1.csv\n",
      "2005_1.csv\n",
      "2016_4.csv\n",
      "2014_4.csv\n",
      "2015_4.csv\n",
      "2016_5.csv\n",
      "2013_3.csv\n",
      "2016_1.csv\n",
      "2016_2.csv\n",
      "2015_3.csv\n",
      "2015_2.csv\n",
      "2014_2.csv\n",
      "2016_3.csv\n",
      "2014_1.csv\n",
      "2013_2.csv\n",
      "2015_5.csv\n",
      "2015_6.csv\n",
      "2016_6.csv\n",
      "2014_3.csv\n",
      "number of documents 7935\n"
     ]
    }
   ],
   "source": [
    "import os\n",
    "import pandas as pd\n",
    "# raw data\n",
    "def read_time(dir):\n",
    "    filenames = os.listdir(dir)\n",
    "    date = pd.DataFrame(columns=['FD'])\n",
    "    for i in filenames:\n",
    "        print i\n",
    "        i = os.path.join(dir, i)\n",
    "        text = pd.read_csv(i, usecols=['FD'])\n",
    "        date = pd.concat([date, text], axis=0)\n",
    "    return date\n",
    "filedir = 'data'\n",
    "raw_date = read_time(filedir)\n",
    "print 'number of documents', len(raw_date)"
   ]
  },
  {
   "cell_type": "code",
   "execution_count": 9,
   "metadata": {
    "collapsed": false
   },
   "outputs": [],
   "source": [
    "import datetime\n",
    "def transDate(date_column):\n",
    "    date = []\n",
    "    for i in list(date_column):\n",
    "        year = int(i[:4])\n",
    "        month = int(i[5:7])\n",
    "        day = int(i[-2:])\n",
    "        date.append(datetime.datetime(year,month,day).strftime('%s'))\n",
    "    return date\n",
    "\n",
    "date = transDate(raw_date.FD)"
   ]
  },
  {
   "cell_type": "code",
   "execution_count": 36,
   "metadata": {
    "collapsed": false
   },
   "outputs": [
    {
     "data": {
      "text/plain": [
       "(7935, 1)"
      ]
     },
     "execution_count": 36,
     "metadata": {},
     "output_type": "execute_result"
    }
   ],
   "source": [
    "raw_date.shape"
   ]
  },
  {
   "cell_type": "code",
   "execution_count": 26,
   "metadata": {
    "collapsed": false
   },
   "outputs": [],
   "source": [
    "date_f = pd.DataFrame(date)"
   ]
  },
  {
   "cell_type": "code",
   "execution_count": 45,
   "metadata": {
    "collapsed": false
   },
   "outputs": [],
   "source": [
    "dictionary = dict(zip(list(raw_date.FD),date))"
   ]
  },
  {
   "cell_type": "code",
   "execution_count": 48,
   "metadata": {
    "collapsed": false
   },
   "outputs": [
    {
     "data": {
      "text/html": [
       "<div>\n",
       "<table border=\"1\" class=\"dataframe\">\n",
       "  <thead>\n",
       "    <tr style=\"text-align: right;\">\n",
       "      <th></th>\n",
       "      <th>FD</th>\n",
       "    </tr>\n",
       "  </thead>\n",
       "  <tbody>\n",
       "    <tr>\n",
       "      <th>0</th>\n",
       "      <td>2013-11-13</td>\n",
       "    </tr>\n",
       "    <tr>\n",
       "      <th>1</th>\n",
       "      <td>2013-11-20</td>\n",
       "    </tr>\n",
       "    <tr>\n",
       "      <th>2</th>\n",
       "      <td>2013-11-13</td>\n",
       "    </tr>\n",
       "    <tr>\n",
       "      <th>3</th>\n",
       "      <td>2013-11-20</td>\n",
       "    </tr>\n",
       "    <tr>\n",
       "      <th>4</th>\n",
       "      <td>2013-11-20</td>\n",
       "    </tr>\n",
       "  </tbody>\n",
       "</table>\n",
       "</div>"
      ],
      "text/plain": [
       "           FD\n",
       "0  2013-11-13\n",
       "1  2013-11-20\n",
       "2  2013-11-13\n",
       "3  2013-11-20\n",
       "4  2013-11-20"
      ]
     },
     "execution_count": 48,
     "metadata": {},
     "output_type": "execute_result"
    }
   ],
   "source": [
    "raw_date.head()"
   ]
  },
  {
   "cell_type": "code",
   "execution_count": 47,
   "metadata": {
    "collapsed": false
   },
   "outputs": [
    {
     "data": {
      "text/plain": [
       "1384300800"
      ]
     },
     "execution_count": 47,
     "metadata": {},
     "output_type": "execute_result"
    }
   ],
   "source": [
    "date[0]"
   ]
  },
  {
   "cell_type": "code",
   "execution_count": 63,
   "metadata": {
    "collapsed": false
   },
   "outputs": [],
   "source": [
    "import pickle\n",
    "\n",
    "with open('time_dict.pickle', 'wb') as f:\n",
    "    pickle.dump(dictionary, f)"
   ]
  },
  {
   "cell_type": "code",
   "execution_count": 13,
   "metadata": {
    "collapsed": false
   },
   "outputs": [],
   "source": [
    "date = [int(i) for i in date]"
   ]
  },
  {
   "cell_type": "code",
   "execution_count": 16,
   "metadata": {
    "collapsed": false
   },
   "outputs": [],
   "source": [
    "import numpy as np"
   ]
  },
  {
   "cell_type": "code",
   "execution_count": 18,
   "metadata": {
    "collapsed": false
   },
   "outputs": [
    {
     "data": {
      "text/plain": [
       "1470787200"
      ]
     },
     "execution_count": 18,
     "metadata": {},
     "output_type": "execute_result"
    }
   ],
   "source": [
    "max(date)"
   ]
  },
  {
   "cell_type": "code",
   "execution_count": 19,
   "metadata": {
    "collapsed": false
   },
   "outputs": [
    {
     "data": {
      "text/plain": [
       "1357084800"
      ]
     },
     "execution_count": 19,
     "metadata": {},
     "output_type": "execute_result"
    }
   ],
   "source": [
    "min(date)"
   ]
  },
  {
   "cell_type": "code",
   "execution_count": 17,
   "metadata": {
    "collapsed": false
   },
   "outputs": [
    {
     "data": {
      "text/plain": [
       "1424348849.6030245"
      ]
     },
     "execution_count": 17,
     "metadata": {},
     "output_type": "execute_result"
    }
   ],
   "source": [
    "np.mean(date)"
   ]
  },
  {
   "cell_type": "code",
   "execution_count": 67,
   "metadata": {
    "collapsed": false
   },
   "outputs": [],
   "source": [
    "# write date to disk file\n",
    "with open('date.txt', 'w') as f:\n",
    "    for i in date:\n",
    "        f.write(str(i)+'\\n')"
   ]
  },
  {
   "cell_type": "code",
   "execution_count": 64,
   "metadata": {
    "collapsed": false
   },
   "outputs": [
    {
     "data": {
      "text/plain": [
       "[1389744000,\n",
       " 1430870400,\n",
       " 1397606400,\n",
       " 1452643200,\n",
       " 1447200000,\n",
       " 1365552000,\n",
       " 1436918400,\n",
       " 1421193600,\n",
       " 1378252800,\n",
       " 1366156800,\n",
       " 1452038400,\n",
       " 1466553600,\n",
       " 1390953600,\n",
       " 1397001600,\n",
       " 1410912000,\n",
       " 1410307200,\n",
       " 1467158400,\n",
       " 1428451200,\n",
       " 1450828800,\n",
       " 1358294400,\n",
       " 1374624000,\n",
       " 1442361600,\n",
       " 1457481600,\n",
       " 1427846400,\n",
       " 1456876800,\n",
       " 1403654400,\n",
       " 1369785600,\n",
       " 1395792000,\n",
       " 1366761600,\n",
       " 1436313600,\n",
       " 1396396800,\n",
       " 1420588800,\n",
       " 1448409600,\n",
       " 1435708800,\n",
       " 1455062400,\n",
       " 1411516800,\n",
       " 1370390400,\n",
       " 1427241600,\n",
       " 1447804800,\n",
       " 1364342400,\n",
       " 1363737600,\n",
       " 1369180800,\n",
       " 1433289600,\n",
       " 1450224000,\n",
       " 1357084800,\n",
       " 1373414400,\n",
       " 1441152000,\n",
       " 1456272000,\n",
       " 1357689600,\n",
       " 1360108800,\n",
       " 1458086400,\n",
       " 1406073600,\n",
       " 1441756800,\n",
       " 1402444800,\n",
       " 1398816000,\n",
       " 1403049600,\n",
       " 1399420800,\n",
       " 1418774400,\n",
       " 1380067200,\n",
       " 1461110400,\n",
       " 1367366400,\n",
       " 1381276800,\n",
       " 1449619200,\n",
       " 1363132800,\n",
       " 1370995200,\n",
       " 1372809600,\n",
       " 1449014400,\n",
       " 1423008000,\n",
       " 1400025600,\n",
       " 1371600000,\n",
       " 1360713600,\n",
       " 1433894400,\n",
       " 1458691200,\n",
       " 1359504000,\n",
       " 1434499200,\n",
       " 1445990400,\n",
       " 1406678400,\n",
       " 1445385600,\n",
       " 1388534400,\n",
       " 1393977600,\n",
       " 1398211200,\n",
       " 1389139200,\n",
       " 1367971200,\n",
       " 1464134400,\n",
       " 1437523200,\n",
       " 1375833600,\n",
       " 1429056000,\n",
       " 1438128000,\n",
       " 1380672000,\n",
       " 1362528000,\n",
       " 1401235200,\n",
       " 1424217600,\n",
       " 1358899200,\n",
       " 1407888000,\n",
       " 1423612800,\n",
       " 1400630400,\n",
       " 1435104000,\n",
       " 1404259200,\n",
       " 1459296000,\n",
       " 1404864000,\n",
       " 1470787200,\n",
       " 1394582400,\n",
       " 1374019200,\n",
       " 1416960000,\n",
       " 1395187200,\n",
       " 1440547200,\n",
       " 1444780800,\n",
       " 1387929600,\n",
       " 1376438400,\n",
       " 1461715200,\n",
       " 1424822400,\n",
       " 1417564800,\n",
       " 1407283200,\n",
       " 1405468800,\n",
       " 1414540800,\n",
       " 1384905600,\n",
       " 1393372800,\n",
       " 1413936000,\n",
       " 1385510400,\n",
       " 1401840000,\n",
       " 1470182400,\n",
       " 1415750400,\n",
       " 1462320000,\n",
       " 1416355200,\n",
       " 1430265600,\n",
       " 1377043200,\n",
       " 1432684800,\n",
       " 1377648000,\n",
       " 1425427200,\n",
       " 1460505600,\n",
       " 1418169600,\n",
       " 1465948800,\n",
       " 1383091200,\n",
       " 1392163200,\n",
       " 1386720000,\n",
       " 1429660800,\n",
       " 1392768000,\n",
       " 1387324800,\n",
       " 1468368000,\n",
       " 1368576000,\n",
       " 1463529600,\n",
       " 1438732800,\n",
       " 1462924800,\n",
       " 1409702400,\n",
       " 1459900800,\n",
       " 1467763200,\n",
       " 1453248000,\n",
       " 1408492800,\n",
       " 1409097600,\n",
       " 1465344000,\n",
       " 1419379200,\n",
       " 1426032000,\n",
       " 1464739200,\n",
       " 1451433600,\n",
       " 1382486400,\n",
       " 1412121600,\n",
       " 1391558400,\n",
       " 1386115200,\n",
       " 1412726400,\n",
       " 1383696000,\n",
       " 1455667200,\n",
       " 1443571200,\n",
       " 1439337600,\n",
       " 1444176000,\n",
       " 1469577600,\n",
       " 1468972800,\n",
       " 1439942400,\n",
       " 1426636800,\n",
       " 1431475200,\n",
       " 1379462400,\n",
       " 1432080000,\n",
       " 1364947200,\n",
       " 1378857600,\n",
       " 1454457600,\n",
       " 1446595200,\n",
       " 1453852800,\n",
       " 1390348800,\n",
       " 1419984000,\n",
       " 1421798400,\n",
       " 1381881600,\n",
       " 1372204800,\n",
       " 1422403200,\n",
       " 1384300800,\n",
       " 1413331200,\n",
       " 1375228800,\n",
       " 1442966400,\n",
       " 1361318400,\n",
       " 1361923200,\n",
       " 1415145600]"
      ]
     },
     "execution_count": 64,
     "metadata": {},
     "output_type": "execute_result"
    }
   ],
   "source": [
    "dictionary.values()"
   ]
  },
  {
   "cell_type": "code",
   "execution_count": 49,
   "metadata": {
    "collapsed": false
   },
   "outputs": [
    {
     "name": "stdout",
     "output_type": "stream",
     "text": [
      "data/2013_1.csv >>>> 500\n",
      "data/2005_1.csv >>>> 500\n",
      "data/2016_4.csv >>>> 500\n",
      "data/2014_4.csv >>>> 470\n",
      "data/2015_4.csv >>>> 500\n",
      "data/2016_5.csv >>>> 500\n",
      "data/2013_3.csv >>>> 376\n",
      "data/2016_1.csv >>>> 250\n",
      "data/2016_2.csv >>>> 500\n",
      "data/2015_3.csv >>>> 500\n",
      "data/2015_2.csv >>>> 500\n",
      "data/2014_2.csv >>>> 500\n",
      "data/2016_3.csv >>>> 250\n",
      "data/2014_1.csv >>>> 500\n",
      "data/2013_2.csv >>>> 500\n",
      "data/2015_5.csv >>>> 500\n",
      "data/2015_6.csv >>>> 18\n",
      "data/2016_6.csv >>>> 71\n",
      "data/2014_3.csv >>>> 500\n",
      "number of documents 7935\n"
     ]
    }
   ],
   "source": [
    "import os\n",
    "import pandas as pd\n",
    "\n",
    "# raw data\n",
    "def read_data(dir):\n",
    "    filenames = os.listdir(dir)\n",
    "    data = pd.DataFrame(columns=['AB'])\n",
    "    for i in filenames:\n",
    "        i = os.path.join(dir, i)\n",
    "        text = pd.read_csv(i, usecols=['AB'])\n",
    "        print i ,'>>>>', text.shape[0]\n",
    "        data = pd.concat([data, text], axis=0)\n",
    "    return list(data['AB'])\n",
    "\n",
    "filedir = 'data'\n",
    "data = read_data(filedir)\n",
    "print 'number of documents', len(data)"
   ]
  },
  {
   "cell_type": "code",
   "execution_count": 53,
   "metadata": {
    "collapsed": false
   },
   "outputs": [
    {
     "name": "stdout",
     "output_type": "stream",
     "text": [
      "本发明涉及一种聚丙烯材料,具体讲,涉及一种用石墨烯改性的阻燃聚丙烯材料。所述的无卤阻燃聚丙烯中含有聚丙烯69～77wt%、阻燃剂23～25wt%、阻燃协效剂0.01～2wt%；其中,阻燃剂选自三聚氰胺聚磷酸盐、聚磷酸铵、季戊四醇中至少一种；阻燃协效剂选自改性石墨烯。本法发明的阻燃聚丙烯材料有效的提高了阻燃PP的阻燃性能,并且提升了阻燃材料的力学性能。\n"
     ]
    }
   ],
   "source": [
    "print data[0]"
   ]
  },
  {
   "cell_type": "code",
   "execution_count": 62,
   "metadata": {
    "collapsed": false
   },
   "outputs": [
    {
     "name": "stdout",
     "output_type": "stream",
     "text": [
      "本发明涉及一种聚丙烯材料,具体讲,涉及一种用石墨烯改性的阻燃聚丙烯材料。所述的无卤阻燃聚丙烯中含有聚丙烯69～77wt%、阻燃剂23～25wt%、阻燃协效剂0.01～2wt%；其中,阻燃剂选自三聚氰胺聚磷酸盐、聚磷酸铵、季戊四醇中至少一种；阻燃协效剂选自改性石墨烯。本法发明的阻燃聚丙烯材料有效的提高了阻燃PP的阻燃性能,并且提升了阻燃材料的力学性能。\n"
     ]
    }
   ],
   "source": [
    "print data[0].decode('utf-8')"
   ]
  },
  {
   "cell_type": "code",
   "execution_count": 63,
   "metadata": {
    "collapsed": true
   },
   "outputs": [],
   "source": [
    "data = [i.decode('utf-8') for i in data]\n",
    "\n",
    "with open(\"data_merge.txt\", 'w') as outfile:\n",
    "    for line in data:\n",
    "        outfile.write(line.encode('utf-8') + '\\n')"
   ]
  },
  {
   "cell_type": "code",
   "execution_count": 94,
   "metadata": {
    "collapsed": false
   },
   "outputs": [],
   "source": [
    "def read_data(filename):\n",
    "\twith open(filename, 'r') as f:\n",
    "\t\tdata = [i.decode('utf-8') for i in f.readlines()]\n",
    "        return data"
   ]
  },
  {
   "cell_type": "code",
   "execution_count": 84,
   "metadata": {
    "collapsed": false
   },
   "outputs": [
    {
     "name": "stdout",
     "output_type": "stream",
     "text": [
      "\u001b[0m\u001b[01;34mcode\u001b[0m/  \u001b[01;34mdata\u001b[0m/  data_merge.txt  data_process.py  pro.txt  stop_list.txt\r\n"
     ]
    }
   ],
   "source": [
    "ls"
   ]
  },
  {
   "cell_type": "code",
   "execution_count": 95,
   "metadata": {
    "collapsed": false
   },
   "outputs": [],
   "source": [
    "data1 = read_data('data_merge.txt')"
   ]
  },
  {
   "cell_type": "code",
   "execution_count": 100,
   "metadata": {
    "collapsed": true
   },
   "outputs": [],
   "source": [
    "def get_stop_words_set(file_name):  \n",
    "    with open(file_name,'r') as file:  \n",
    "        return set([line.decode('utf-8').strip() for line in file])  "
   ]
  },
  {
   "cell_type": "code",
   "execution_count": 101,
   "metadata": {
    "collapsed": true
   },
   "outputs": [],
   "source": [
    "stop_list = get_stop_words_set('stop_list.txt')"
   ]
  },
  {
   "cell_type": "code",
   "execution_count": 126,
   "metadata": {
    "collapsed": true
   },
   "outputs": [],
   "source": [
    "import jieba\n",
    "def get_seg_words(text, stop_list):\n",
    "    word_list = []\n",
    "    for i in range(len(data1)):\n",
    "        line = text[i]\n",
    "        tmp_list = list(jieba.cut(line.strip(), cut_all=False))\n",
    "        word_list.append([term for term in tmp_list if term not in stop_list])\n",
    "    return word_list"
   ]
  },
  {
   "cell_type": "code",
   "execution_count": 127,
   "metadata": {
    "collapsed": true
   },
   "outputs": [],
   "source": [
    "word_list = get_seg_words(data1, stop_list)"
   ]
  },
  {
   "cell_type": "code",
   "execution_count": 131,
   "metadata": {
    "collapsed": false
   },
   "outputs": [],
   "source": [
    "def write_seg_file(data, target_file):\n",
    "    with open(target_file, 'w') as outfile:\n",
    "        for line in data:\n",
    "            outfile.write(' '.join(line).encode('utf-8') + '\\n')"
   ]
  },
  {
   "cell_type": "code",
   "execution_count": 132,
   "metadata": {
    "collapsed": true
   },
   "outputs": [],
   "source": [
    "write_seg_file(word_list, 'data_seg.txt')"
   ]
  },
  {
   "cell_type": "code",
   "execution_count": 136,
   "metadata": {
    "collapsed": false
   },
   "outputs": [
    {
     "name": "stdout",
     "output_type": "stream",
     "text": [
      "涉及 聚丙烯 材料 讲 涉及 改性 阻燃 聚丙烯 材料 卤 阻燃 聚丙烯 含有 聚丙烯 69 77wt 阻燃剂 23 25wt 阻燃 协效剂 0.01 2wt 阻燃剂 选 三聚氰胺 聚 磷酸盐 聚磷酸铵 季戊四醇 至少 阻燃 协效剂 选自 改性 本法 发明 阻燃 聚丙烯 材料 提高 阻燃 PP 阻燃性 提升 阻燃 材料 力学性能\n"
     ]
    }
   ],
   "source": [
    "print ' '.join(word_list[0])"
   ]
  },
  {
   "cell_type": "code",
   "execution_count": 137,
   "metadata": {
    "collapsed": true
   },
   "outputs": [],
   "source": [
    "import re"
   ]
  },
  {
   "cell_type": "code",
   "execution_count": 1,
   "metadata": {
    "collapsed": true
   },
   "outputs": [],
   "source": [
    "sts = u'涉及 聚丙烯 材料 讲 涉及 改性 阻燃 聚丙烯 材料 卤 阻燃 聚丙烯 含有 聚丙烯 69 77wt 阻燃剂 23 25wt 阻燃 协效剂 0.01 2wt 阻燃剂 选 三聚氰胺 聚 磷酸盐 聚磷酸铵 季戊四醇 至少 阻燃 协效剂 选自 改性 本法 发明 阻燃 聚丙烯 材料 提高 阻燃 PP 阻燃性 提升 阻燃 材料 力学性能'"
   ]
  },
  {
   "cell_type": "code",
   "execution_count": 5,
   "metadata": {
    "collapsed": false
   },
   "outputs": [],
   "source": [
    "sts = re.sub(r'[\\w+]|[\\.]', '', sts)"
   ]
  },
  {
   "cell_type": "code",
   "execution_count": 7,
   "metadata": {
    "collapsed": false
   },
   "outputs": [
    {
     "name": "stdout",
     "output_type": "stream",
     "text": [
      "涉及 聚丙烯 材料 讲 涉及 改性 阻燃 聚丙烯 材料 卤 阻燃 聚丙烯 含有 聚丙烯   阻燃剂   阻燃 协效剂   阻燃剂 选 三聚氰胺 聚 磷酸盐 聚磷酸铵 季戊四醇 至少 阻燃 协效剂 选自 改性 本法 发明 阻燃 聚丙烯 材料 提高 阻燃  阻燃性 提升 阻燃 材料 力学性能\n"
     ]
    }
   ],
   "source": [
    "print sts"
   ]
  },
  {
   "cell_type": "code",
   "execution_count": 11,
   "metadata": {
    "collapsed": false
   },
   "outputs": [
    {
     "name": "stdout",
     "output_type": "stream",
     "text": [
      "涉及 聚丙烯 材料 讲 涉及 改性 阻燃 聚丙烯 材料 卤 阻燃 聚丙烯 含有 聚丙烯 阻燃剂 阻燃 协效剂 阻燃剂 选 三聚氰胺 聚 磷酸盐 聚磷酸铵 季戊四醇 至少 阻燃 协效剂 选自 改性 本法 发明 阻燃 聚丙烯 材料 提高 阻燃 阻燃性 提升 阻燃 材料 力学性能\n"
     ]
    }
   ],
   "source": [
    "print ' '.join(sts.split())"
   ]
  },
  {
   "cell_type": "code",
   "execution_count": 14,
   "metadata": {
    "collapsed": false
   },
   "outputs": [
    {
     "name": "stdout",
     "output_type": "stream",
     "text": [
      "/home/zack/my_paper\n"
     ]
    }
   ],
   "source": [
    "cd .."
   ]
  },
  {
   "cell_type": "code",
   "execution_count": 37,
   "metadata": {
    "collapsed": false
   },
   "outputs": [],
   "source": [
    "def read_seg_data(filename):\n",
    "\twith open(filename, 'r') as f:\n",
    "\t\tdata = [i.decode('utf-8') for i in f.readlines()]\n",
    "        return data\n",
    "\n",
    "def remove_numbers(data, target_file='data_seg3', do_write=True):\n",
    "    data = [re.sub(r'[\\w+]|[\\.]', '', i) for i in data]\n",
    "    data = [re.sub(r' . ', '', i).split() for i in data]\n",
    "    #data = [list(i) for i in line if len(i) > 1 for line in data ]\n",
    "    print ' '.join(data[0])\n",
    "    \n",
    "    if do_write == True:\n",
    "    # write to disk\n",
    "        with open(target_file, 'w') as outfile:\n",
    "            for line in data:\n",
    "                outfile.write(' '.join(line).encode('utf-8') + '\\n')\n",
    "    else:\n",
    "        return data"
   ]
  },
  {
   "cell_type": "code",
   "execution_count": 38,
   "metadata": {
    "collapsed": false,
    "scrolled": true
   },
   "outputs": [
    {
     "name": "stdout",
     "output_type": "stream",
     "text": [
      "涉及 聚丙烯 材料涉及 改性 阻燃 聚丙烯 材料阻燃 聚丙烯 含有 聚丙烯阻燃剂阻燃 协效剂阻燃剂三聚氰胺磷酸盐 聚磷酸铵 季戊四醇 至少 阻燃 协效剂 选自 改性 本法 发明 阻燃 聚丙烯 材料 提高 阻燃 阻燃性 提升 阻燃 材料 力学性能\n"
     ]
    }
   ],
   "source": [
    "remove_numbers(data)"
   ]
  },
  {
   "cell_type": "code",
   "execution_count": 30,
   "metadata": {
    "collapsed": false
   },
   "outputs": [
    {
     "data": {
      "text/plain": [
       "1"
      ]
     },
     "execution_count": 30,
     "metadata": {},
     "output_type": "execute_result"
    }
   ],
   "source": [
    "len(data1[0][3])"
   ]
  },
  {
   "cell_type": "code",
   "execution_count": 141,
   "metadata": {
    "collapsed": false
   },
   "outputs": [],
   "source": [
    "str1 = re.sub(r'\\w+', '', ' '.join(word_list[0]))"
   ]
  },
  {
   "cell_type": "code",
   "execution_count": 146,
   "metadata": {
    "collapsed": false
   },
   "outputs": [],
   "source": [
    "str2 = str1.strip().split()"
   ]
  },
  {
   "cell_type": "code",
   "execution_count": 149,
   "metadata": {
    "collapsed": false
   },
   "outputs": [
    {
     "name": "stdout",
     "output_type": "stream",
     "text": [
      "涉及 聚丙烯 材料 讲 涉及 改性 阻燃 聚丙烯 材料 卤 阻燃 聚丙烯 含有 聚丙烯   阻燃剂   阻燃 协效剂   阻燃剂 选 三聚氰胺 聚 磷酸盐 聚磷酸铵 季戊四醇 至少 阻燃 协效剂 选自 改性 本法 发明 阻燃 聚丙烯 材料 提高 阻燃  阻燃性 提升 阻燃 材料 力学性能\n"
     ]
    }
   ],
   "source": [
    "print re.sub(r'\\.', '', str1)"
   ]
  },
  {
   "cell_type": "code",
   "execution_count": 147,
   "metadata": {
    "collapsed": false
   },
   "outputs": [
    {
     "name": "stdout",
     "output_type": "stream",
     "text": [
      "涉及 聚丙烯 材料 讲 涉及 改性 阻燃 聚丙烯 材料 卤 阻燃 聚丙烯 含有 聚丙烯 阻燃剂 阻燃 协效剂 . 阻燃剂 选 三聚氰胺 聚 磷酸盐 聚磷酸铵 季戊四醇 至少 阻燃 协效剂 选自 改性 本法 发明 阻燃 聚丙烯 材料 提高 阻燃 阻燃性 提升 阻燃 材料 力学性能\n"
     ]
    }
   ],
   "source": [
    "print ' '.join(str2)"
   ]
  },
  {
   "cell_type": "code",
   "execution_count": 40,
   "metadata": {
    "collapsed": false
   },
   "outputs": [
    {
     "name": "stdout",
     "output_type": "stream",
     "text": [
      "涉及 聚丙烯 材料 讲 涉及 改性 阻燃 聚丙烯 材料 卤 阻燃 聚丙烯 含有 聚丙烯 69 77wt 阻燃剂 23 25wt 阻燃 协效剂 0.01 2wt 阻燃剂 选 三聚氰胺 聚 磷酸盐 聚磷酸铵 季戊四醇 至少 阻燃 协效剂 选自 改性 本法 发明 阻燃 聚丙烯 材料 提高 阻燃 PP 阻燃性 提升 阻燃 材料 力学性能\n",
      "\n"
     ]
    }
   ],
   "source": [
    "print data[0]"
   ]
  },
  {
   "cell_type": "code",
   "execution_count": 42,
   "metadata": {
    "collapsed": false
   },
   "outputs": [
    {
     "ename": "AttributeError",
     "evalue": "'module' object has no attribute 'analyse'",
     "output_type": "error",
     "traceback": [
      "\u001b[1;31m---------------------------------------------------------------------------\u001b[0m",
      "\u001b[1;31mAttributeError\u001b[0m                            Traceback (most recent call last)",
      "\u001b[1;32m<ipython-input-42-7bb63761780c>\u001b[0m in \u001b[0;36m<module>\u001b[1;34m()\u001b[0m\n\u001b[1;32m----> 1\u001b[1;33m \u001b[0mjieba\u001b[0m\u001b[1;33m.\u001b[0m\u001b[0manalyse\u001b[0m\u001b[1;33m.\u001b[0m\u001b[0mextract_tags\u001b[0m\u001b[1;33m(\u001b[0m\u001b[1;33m)\u001b[0m\u001b[1;33m\u001b[0m\u001b[0m\n\u001b[0m",
      "\u001b[1;31mAttributeError\u001b[0m: 'module' object has no attribute 'analyse'"
     ]
    }
   ],
   "source": [
    "jieba.analyse.extra"
   ]
  },
  {
   "cell_type": "markdown",
   "metadata": {
    "collapsed": true
   },
   "source": [
    "## use nltk find most frequency"
   ]
  },
  {
   "cell_type": "code",
   "execution_count": 3,
   "metadata": {
    "collapsed": false
   },
   "outputs": [
    {
     "name": "stdout",
     "output_type": "stream",
     "text": [
      "/home/zack/my_paper\n"
     ]
    }
   ],
   "source": [
    "cd .."
   ]
  },
  {
   "cell_type": "code",
   "execution_count": 44,
   "metadata": {
    "collapsed": true
   },
   "outputs": [],
   "source": [
    "from __future__ import division"
   ]
  },
  {
   "cell_type": "code",
   "execution_count": 1,
   "metadata": {
    "collapsed": true
   },
   "outputs": [],
   "source": [
    "import nltk"
   ]
  },
  {
   "cell_type": "code",
   "execution_count": 28,
   "metadata": {
    "collapsed": false
   },
   "outputs": [],
   "source": [
    "with open('./data_seg3.txt', 'r') as f:\n",
    "    data = f.read().decode(utf-8)"
   ]
  },
  {
   "cell_type": "code",
   "execution_count": 34,
   "metadata": {
    "collapsed": false
   },
   "outputs": [],
   "source": [
    "text = nltk.Text(nltk.word_tokenize(data))"
   ]
  },
  {
   "cell_type": "code",
   "execution_count": 99,
   "metadata": {
    "collapsed": false
   },
   "outputs": [],
   "source": [
    "from nltk.collocations import *\n",
    "bigram_measures = nltk.collocations.BigramAssocMeasures()\n",
    "trigram_measures = nltk.collocations.TrigramAssocMeasures()\n",
    "finder = BigramCollocationFinder.from_words(text)"
   ]
  },
  {
   "cell_type": "code",
   "execution_count": 75,
   "metadata": {
    "collapsed": true
   },
   "outputs": [],
   "source": [
    "# bigram\n",
    "word_list = finder.nbest(bigram_measures.pmi, 20)  # doctest: +NORMALIZE_WHITESPACE"
   ]
  },
  {
   "cell_type": "code",
   "execution_count": 93,
   "metadata": {
    "collapsed": true
   },
   "outputs": [],
   "source": [
    "finder.apply_freq_filter(3)\n",
    "word_list4 = finder.nbest(bigram_measures.pmi, 20)"
   ]
  },
  {
   "cell_type": "code",
   "execution_count": 76,
   "metadata": {
    "collapsed": false
   },
   "outputs": [],
   "source": [
    "# trigram\n",
    "#finder = TrigramCollocationFinder.from_words(text)\n",
    "#word_list2 = finder.nbest(trigram_measures.pmi, 20)"
   ]
  },
  {
   "cell_type": "code",
   "execution_count": 110,
   "metadata": {
    "collapsed": true
   },
   "outputs": [],
   "source": [
    "finder.apply_freq_filter(8)\n",
    "word_list2 = finder.nbest(bigram_measures.pmi, 30)"
   ]
  },
  {
   "cell_type": "code",
   "execution_count": 127,
   "metadata": {
    "collapsed": false,
    "scrolled": false
   },
   "outputs": [
    {
     "name": "stdout",
     "output_type": "stream",
     "text": [
      "π包覆生物表面\n",
      "一个个颗粒海绵状颗粒\n",
      "一价盐源氯化硫源\n",
      "一元芳香高\n",
      "一剂多能\n",
      "一层原子烯膜层原子\n",
      "一层多孔结构颗粒\n",
      "一层层连接表面\n",
      "一层滤膜支持静电纳米\n",
      "一根芯挤包\n",
      "一根芯线单元环形包裹芯线单元\n",
      "一步自掺杂改性可见光\n",
      "一段时间步骤中上层\n",
      "一环动高分子环动\n",
      "一碘代十二液氨\n",
      "一维纳米材料导热金属份\n",
      "一维酸纳米线三明治结构酸纳米线\n",
      "一股股绞合铝线\n",
      "一铜衬底衬底薄膜镍\n",
      "丁二烯份苯乙烯份\n",
      "市面上出售\n",
      "载样小舟\n",
      "铆钉触头\n",
      "二月桂酸二\n",
      "搅拌转速反应时间停止\n",
      "烯起重臂\n",
      "精确性防错激光\n",
      "道路交通信号灯\n",
      "均匀性改性导线\n",
      "金黄色葡萄球菌\n",
      "乙酰胆碱酯酶\n",
      "添加复合材料总量添加\n",
      "温度压力搅拌转速\n",
      "釜体体内温度压力\n",
      "重组链球菌\n",
      "有机有机酸盐类\n",
      "接线端子\n",
      "回转筒体\n",
      "研磨目筛改性滑石粉粉末\n",
      "去离子水沉淀物烘干研磨目筛\n",
      "溶聚丁苯橡胶\n",
      "钛合金棒材\n",
      "马来酸酐\n",
      "微粒玻印亭矢量\n",
      "从动磨片\n",
      "处理器密封鼓风抽\n",
      "磨片从动\n",
      "水溶液氧化甲基丙烯酸乙酯聚丙烯腈二甲基甲酰胺适量氧化\n",
      "适量丁基过氧化氢柠檬酸\n",
      "适量氧化乙烯二甲基甲酰胺\n",
      "包括步骤\n",
      "技术领域\n",
      "工艺简单\n",
      "电极材料\n",
      "锂离子电池\n",
      "超级电容器\n",
      "还原氧化\n",
      "超声分散\n",
      "混合溶液\n",
      "纳米复合材料\n",
      "氧化溶液\n",
      "领域涉及\n",
      "化学气相\n",
      "成本低廉\n",
      "步骤氧化\n",
      "混合均匀\n",
      "复合电极\n",
      "正极材料\n",
      "负极材料\n",
      "操作简单\n",
      "纳米颗粒\n",
      "太阳能电池\n",
      "氧化氧化\n",
      "离子液体\n",
      "复合材料包括\n",
      "复合薄膜\n",
      "现有技术\n",
      "导电薄膜\n",
      "气相沉积\n",
      "实用新型公开\n",
      "洗涤干燥\n",
      "纳米粒子\n",
      "领域公开\n",
      "氧化还原\n",
      "解决现有\n",
      "均匀分散\n",
      "材料领域\n",
      "氧化水溶液\n",
      "氧化分散\n",
      "表面活性剂\n",
      "中沉析出过滤\n",
      "中波辐射器加热\n",
      "为机油桶\n",
      "乙叉二磷酸\n",
      "信道自发辐射\n",
      "全天侯式\n",
      "包覆多孔复合材料多孔复合材料颗粒表面\n",
      "型柱芳烃分子\n",
      "增强铜板层压板\n",
      "如棉羊毛\n",
      "导弹武器\n",
      "层压板宇航领域\n",
      "屏蔽负载直流电压\n",
      "式量热计\n",
      "护膝秋裤\n",
      "接有聚炔\n",
      "改进防锈剂凝剂抗泡剂\n",
      "检测灵敏度检测限较技术\n",
      "沉积水热合成氧化锌\n",
      "没能去除引进\n"
     ]
    }
   ],
   "source": [
    "for num in [word_list,word_list2,word_list3,word_list4]:\n",
    "    for (i, j) in num:\n",
    "        print i+j"
   ]
  },
  {
   "cell_type": "code",
   "execution_count": null,
   "metadata": {
    "collapsed": true
   },
   "outputs": [],
   "source": []
  },
  {
   "cell_type": "code",
   "execution_count": 87,
   "metadata": {
    "collapsed": false,
    "scrolled": true
   },
   "outputs": [],
   "source": [
    "# freqlist\n",
    "word_fd = nltk.FreqDist(text)\n",
    "bigram_fd = nltk.FreqDist(nltk.bigrams(text))\n",
    "finder = BigramCollocationFinder(word_fd, bigram_fd)\n",
    "#scored == finder.score_ngrams(bigram_measures.raw_freq)\n",
    "word_list3 = finder.nbest(bigram_measures.raw_freq, 40)"
   ]
  },
  {
   "cell_type": "code",
   "execution_count": 70,
   "metadata": {
    "collapsed": false,
    "scrolled": false
   },
   "outputs": [
    {
     "name": "stdout",
     "output_type": "stream",
     "text": [
      "中沉 析出过滤\n",
      "中波 辐射器加热\n",
      "为机 油桶\n",
      "乙叉 二磷酸\n",
      "信道 自发辐射\n",
      "全天 侯式\n",
      "包覆多孔复合材料多孔复合材料 颗粒表面\n",
      "型柱 芳烃分子\n",
      "增强铜板 层压板\n",
      "如棉 羊毛\n",
      "导弹 武器\n",
      "层压板 宇航领域\n",
      "屏蔽负载 直流电压\n",
      "式量 热计\n",
      "护膝 秋裤\n",
      "接有 聚炔\n",
      "改进防锈剂凝剂 抗泡剂\n",
      "检测灵敏度检测 限较技术\n",
      "沉积水热 合成氧化锌\n",
      "没能 去除引进\n",
      "油桶 烯润\n",
      "浸锌液 中浸分钟\n",
      "烘干酸钠 改性滑石酸钠\n",
      "烯形 核及\n",
      "烯忆 阻器\n",
      "甲状腺 球蛋白\n",
      "电力工业 冶金工业\n",
      "红外波长 同重频\n",
      "纳米刮下纳米粉末 以该纳米粉末\n",
      "聚碳酸 亚丙酯\n"
     ]
    }
   ],
   "source": [
    "finder.apply_freq_filter(3)\n",
    "for (i,j) in finder.nbest(bigram_measures.pmi, 30):\n",
    "    print i,  j"
   ]
  },
  {
   "cell_type": "code",
   "execution_count": 40,
   "metadata": {
    "collapsed": false,
    "scrolled": true
   },
   "outputs": [
    {
     "name": "stdout",
     "output_type": "stream",
     "text": [
      "场效应 晶体管; 大规模 工业化生产; 聚乙烯 吡咯烷酮; 纳米复合 纳米材料; 烷基苯 磺酸钠; 适量丁基 过氧化氢柠檬酸; 适量氧化\n",
      "乙烯二甲基甲酰胺; 电容式 触摸屏; 电池组 自放电; 水溶液氧化甲基丙烯酸乙酯聚丙烯腈二甲基甲酰胺 适量氧化; 电化学 传感器;\n",
      "乙烯二甲基甲酰胺 二氯甲烷; 导电光伏 控制器; 分子量 聚乙烯; 去离子水沉淀物烘干 研磨目筛; 双螺杆 挤出机; 原子力 显微镜;\n",
      "二氧化钛 纳米管; 载流子 迁移率; 混合液 混合液\n"
     ]
    }
   ],
   "source": [
    "text.collocations()"
   ]
  },
  {
   "cell_type": "code",
   "execution_count": 48,
   "metadata": {
    "collapsed": false
   },
   "outputs": [
    {
     "name": "stdout",
     "output_type": "stream",
     "text": [
      "场效应 晶体管; 大规模 工业化生产; 电化学 传感器; 混合液 混合液; 聚乙烯 吡咯烷酮; 悬浮液 悬浮液; 纳米复合 纳米材料;\n",
      "烷基苯 磺酸钠; 电容式 触摸屏; 聚苯胺 复合材料; 混合物 混合物; 适量丁基 过氧化氢柠檬酸; 适量氧化 乙烯二甲基甲酰胺; 双螺杆\n",
      "挤出机; 复合材料 复合材料; 金属电极 金属电极; 电池组 自放电; 水溶液氧化甲基丙烯酸乙酯聚丙烯腈二甲基甲酰胺 乙烯二甲基甲酰胺;\n",
      "水溶液氧化甲基丙烯酸乙酯聚丙烯腈二甲基甲酰胺 适量氧化; 乙烯二甲基甲酰胺 二氯甲烷\n"
     ]
    }
   ],
   "source": [
    "text.collocations(window_size=3) "
   ]
  },
  {
   "cell_type": "code",
   "execution_count": 42,
   "metadata": {
    "collapsed": false
   },
   "outputs": [
    {
     "data": {
      "text/plain": [
       "398804"
      ]
     },
     "execution_count": 42,
     "metadata": {},
     "output_type": "execute_result"
    }
   ],
   "source": [
    "len(text)"
   ]
  },
  {
   "cell_type": "code",
   "execution_count": 45,
   "metadata": {
    "collapsed": false
   },
   "outputs": [
    {
     "data": {
      "text/plain": [
       "0.10950241221251542"
      ]
     },
     "execution_count": 45,
     "metadata": {},
     "output_type": "execute_result"
    }
   ],
   "source": [
    "# 不同词占总词数的10%\n",
    "len(set(text)) / len(text)"
   ]
  },
  {
   "cell_type": "code",
   "execution_count": 65,
   "metadata": {
    "collapsed": false,
    "scrolled": false
   },
   "outputs": [
    {
     "name": "stdout",
     "output_type": "stream",
     "text": [
      "氧化 材料 复合材料 包括 纳米 公开 表面 溶液 复合 电极 薄膜 步骤 简单 涉及 分散 混合 结构 领域 金属 采用 提供 性能 技术 提高 均匀 还原 工艺 利用 导电 电池 超声 搅拌 衬底 干燥 改性 过程 用于 装置 催化剂 生长 三维 生产 基底 掺杂 原料 条件 实用新型 纤维 化学 加热 制得 沉积 操作 设置 剥离 颗粒 溶剂 吸附 修饰 聚合物 产物 电化学 洗涤 烯层 碳纳米管 电容器 优点 离子 转移 质量 之间 多孔 锂离子 检测 连接 传感器 第一 水溶液 气体 柔性 真空 去离子水 有机 器件 现有 超级 作用 负载 效果 置于 成本 优异 粉末 过滤 成本低 正极 温度 合成 降低 控制  138292\n"
     ]
    }
   ],
   "source": [
    "st = ''\n",
    "num = 0\n",
    "for (i,j) in fdist.most_common(100):\n",
    "    st += (i+' ')\n",
    "    num += j\n",
    "print st, num"
   ]
  },
  {
   "cell_type": "code",
   "execution_count": 123,
   "metadata": {
    "collapsed": false
   },
   "outputs": [
    {
     "name": "stdout",
     "output_type": "stream",
     "text": [
      "氧化\n",
      "材料\n",
      "复合材料\n",
      "包括\n",
      "纳米\n",
      "公开\n",
      "表面\n",
      "溶液\n",
      "复合\n",
      "电极\n",
      "薄膜\n",
      "步骤\n",
      "简单\n",
      "涉及\n",
      "分散\n",
      "混合\n",
      "结构\n",
      "领域\n",
      "金属\n",
      "采用\n",
      "提供\n",
      "性能\n",
      "技术\n",
      "提高\n",
      "均匀\n",
      "还原\n",
      "工艺\n",
      "利用\n",
      "导电\n",
      "电池\n",
      "超声\n",
      "搅拌\n",
      "衬底\n",
      "干燥\n",
      "改性\n",
      "过程\n",
      "用于\n",
      "装置\n",
      "催化剂\n",
      "生长\n",
      "三维\n",
      "生产\n",
      "基底\n",
      "掺杂\n",
      "原料\n",
      "条件\n",
      "实用新型\n",
      "纤维\n",
      "化学\n",
      "加热\n",
      "制得\n",
      "沉积\n",
      "操作\n",
      "设置\n",
      "剥离\n",
      "颗粒\n",
      "溶剂\n",
      "吸附\n",
      "修饰\n",
      "聚合物\n",
      "产物\n",
      "电化学\n",
      "洗涤\n",
      "烯层\n",
      "碳纳米管\n",
      "电容器\n",
      "优点\n",
      "离子\n",
      "转移\n",
      "质量\n",
      "之间\n",
      "多孔\n",
      "锂离子\n",
      "检测\n",
      "连接\n",
      "传感器\n",
      "第一\n",
      "水溶液\n",
      "气体\n",
      "柔性\n",
      "真空\n",
      "去离子水\n",
      "有机\n",
      "器件\n",
      "现有\n",
      "超级\n",
      "作用\n",
      "负载\n",
      "效果\n",
      "置于\n",
      "成本\n",
      "优异\n",
      "粉末\n",
      "过滤\n",
      "成本低\n",
      "正极\n",
      "温度\n",
      "合成\n",
      "降低\n",
      "控制\n"
     ]
    }
   ],
   "source": [
    "print '\\n'.join(st.split())"
   ]
  },
  {
   "cell_type": "code",
   "execution_count": 66,
   "metadata": {
    "collapsed": false
   },
   "outputs": [
    {
     "data": {
      "text/plain": [
       "0.3467668328301622"
      ]
     },
     "execution_count": 66,
     "metadata": {},
     "output_type": "execute_result"
    }
   ],
   "source": [
    "num/len(text)"
   ]
  },
  {
   "cell_type": "code",
   "execution_count": null,
   "metadata": {
    "collapsed": true
   },
   "outputs": [],
   "source": []
  },
  {
   "cell_type": "code",
   "execution_count": null,
   "metadata": {
    "collapsed": true
   },
   "outputs": [],
   "source": []
  },
  {
   "cell_type": "code",
   "execution_count": null,
   "metadata": {
    "collapsed": true
   },
   "outputs": [],
   "source": []
  },
  {
   "cell_type": "code",
   "execution_count": null,
   "metadata": {
    "collapsed": true
   },
   "outputs": [],
   "source": []
  },
  {
   "cell_type": "code",
   "execution_count": null,
   "metadata": {
    "collapsed": true
   },
   "outputs": [],
   "source": []
  },
  {
   "cell_type": "code",
   "execution_count": null,
   "metadata": {
    "collapsed": true
   },
   "outputs": [],
   "source": []
  },
  {
   "cell_type": "code",
   "execution_count": null,
   "metadata": {
    "collapsed": true
   },
   "outputs": [],
   "source": []
  },
  {
   "cell_type": "code",
   "execution_count": null,
   "metadata": {
    "collapsed": true
   },
   "outputs": [],
   "source": []
  },
  {
   "cell_type": "code",
   "execution_count": null,
   "metadata": {
    "collapsed": true
   },
   "outputs": [],
   "source": []
  },
  {
   "cell_type": "code",
   "execution_count": null,
   "metadata": {
    "collapsed": true
   },
   "outputs": [],
   "source": []
  },
  {
   "cell_type": "code",
   "execution_count": null,
   "metadata": {
    "collapsed": true
   },
   "outputs": [],
   "source": []
  },
  {
   "cell_type": "code",
   "execution_count": null,
   "metadata": {
    "collapsed": true
   },
   "outputs": [],
   "source": []
  },
  {
   "cell_type": "code",
   "execution_count": null,
   "metadata": {
    "collapsed": true
   },
   "outputs": [],
   "source": []
  },
  {
   "cell_type": "code",
   "execution_count": null,
   "metadata": {
    "collapsed": true
   },
   "outputs": [],
   "source": []
  },
  {
   "cell_type": "code",
   "execution_count": null,
   "metadata": {
    "collapsed": true
   },
   "outputs": [],
   "source": []
  },
  {
   "cell_type": "code",
   "execution_count": 64,
   "metadata": {
    "collapsed": true
   },
   "outputs": [],
   "source": [
    "def get_text(text, stop_list):\n",
    "    word_list = []\n",
    "    for i in range(text.shape[0]):\n",
    "        line = text[i]\n",
    "        tmp_list = list(jieba.cut(line.strip(), cut_all=False))\n",
    "        word_list.append([term for term in tmp_list if term.encode('utf-8') not in stop_list])\n",
    "    return word_list"
   ]
  },
  {
   "cell_type": "code",
   "execution_count": 65,
   "metadata": {
    "collapsed": false
   },
   "outputs": [],
   "source": [
    "word_list = get_text(text, stop_list)"
   ]
  },
  {
   "cell_type": "code",
   "execution_count": 66,
   "metadata": {
    "collapsed": false
   },
   "outputs": [
    {
     "data": {
      "text/plain": [
       "500"
      ]
     },
     "execution_count": 66,
     "metadata": {},
     "output_type": "execute_result"
    }
   ],
   "source": [
    "len(word_list)"
   ]
  },
  {
   "cell_type": "code",
   "execution_count": 67,
   "metadata": {
    "collapsed": false
   },
   "outputs": [
    {
     "name": "stdout",
     "output_type": "stream",
     "text": [
      "安装 碳晶 加热 吊顶 底板 壳体 安装 碳晶 加热 吊顶 底板 壳体 壳体 制成 方形 长方形 壳体 包括 底板 底板 四周 折边 折 边上 制有 压片 壳体 设置 碳晶 制成 加热 内芯 加热 内芯 底板 内壁 相 接触 压片 加热 内芯 压紧 固定 采用 碳晶 制成 发热 体 节能 环保 无污染 吊顶 室内 受热 均匀 温和 空气 干湿 影响 人体 皮肤 润滑 鼻腔 呼吸道 免受 伤害 感觉 舒适 壳体 设置 碳晶 制成 加热 内芯 加热 内芯 底板 内壁 相 接触 底板 托住 加热 内芯 压片 加热 内芯 压紧 固定 安装 拆卸\n"
     ]
    }
   ],
   "source": [
    "print ' '.join(word_list[0])"
   ]
  },
  {
   "cell_type": "code",
   "execution_count": 35,
   "metadata": {
    "collapsed": true
   },
   "outputs": [],
   "source": [
    "from gensim import corpora, models"
   ]
  },
  {
   "cell_type": "code",
   "execution_count": 68,
   "metadata": {
    "collapsed": true
   },
   "outputs": [],
   "source": [
    "word_dict = corpora.Dictionary(word_list)  #生成文档的词典，每个词与一个整型索引值对应  \n",
    "corpus_list = [word_dict.doc2bow(text) for text in word_list] #词频统计，转化成空间向量格式  "
   ]
  },
  {
   "cell_type": "code",
   "execution_count": 69,
   "metadata": {
    "collapsed": true
   },
   "outputs": [],
   "source": [
    "lda = models.ldamodel.LdaModel(corpus=corpus_list,id2word=word_dict,num_topics=5,alpha='auto')"
   ]
  },
  {
   "cell_type": "code",
   "execution_count": 70,
   "metadata": {
    "collapsed": false
   },
   "outputs": [],
   "source": [
    "topics = lda.show_topics(num_topics=5)"
   ]
  },
  {
   "cell_type": "code",
   "execution_count": 71,
   "metadata": {
    "collapsed": false
   },
   "outputs": [
    {
     "name": "stdout",
     "output_type": "stream",
     "text": [
      "0.032*\"氧化\" + 0.017*\"材料\" + 0.016*\"纳米\" + 0.009*\"复合材料\" + 0.007*\"电极\" + 0.007*\"复合\" + 0.007*\"溶液\" + 0.006*\"电池\" + 0.006*\"分散\" + 0.006*\"掺杂\"\n"
     ]
    }
   ],
   "source": [
    "print topics[0][1]"
   ]
  },
  {
   "cell_type": "code",
   "execution_count": 72,
   "metadata": {
    "collapsed": false
   },
   "outputs": [
    {
     "name": "stdout",
     "output_type": "stream",
     "text": [
      "0.032*\"氧化\" + 0.017*\"材料\" + 0.016*\"纳米\" + 0.009*\"复合材料\" + 0.007*\"电极\" + 0.007*\"复合\" + 0.007*\"溶液\" + 0.006*\"电池\" + 0.006*\"分散\" + 0.006*\"掺杂\"\n",
      "0.011*\"包括\" + 0.008*\"材料\" + 0.007*\"表面\" + 0.007*\"分散\" + 0.006*\"氧化\" + 0.006*\"掺杂\" + 0.006*\"步骤\" + 0.006*\"公开\" + 0.005*\"纳米\" + 0.005*\"氮\"\n",
      "0.012*\"复合材料\" + 0.012*\"材料\" + 0.009*\"层\" + 0.009*\"复合\" + 0.008*\"纳米\" + 0.008*\"份\" + 0.008*\"公开\" + 0.006*\"包括\" + 0.005*\"分散\" + 0.005*\"剥离\"\n",
      "0.015*\"复合材料\" + 0.013*\"氧化\" + 0.011*\"纳米\" + 0.009*\"剥离\" + 0.009*\"材料\" + 0.009*\"包括\" + 0.008*\"份\" + 0.008*\"步骤\" + 0.007*\"公开\" + 0.006*\"复合\"\n",
      "0.016*\"氧化\" + 0.011*\"材料\" + 0.009*\"纳米\" + 0.008*\"份\" + 0.008*\"薄膜\" + 0.008*\"三维\" + 0.007*\"复合\" + 0.007*\"结构\" + 0.006*\"混合\" + 0.006*\"分散\"\n"
     ]
    }
   ],
   "source": [
    "for i in range(len(topics)):\n",
    "    print topics[i][1]"
   ]
  },
  {
   "cell_type": "code",
   "execution_count": 47,
   "metadata": {
    "collapsed": true
   },
   "outputs": [],
   "source": [
    "output_file = './lda_output.txt'  \n",
    "with open(output_file,'w') as f:  \n",
    "    for pattern in lda.show_topics():  \n",
    "        print >> f, \"%s\" % str(pattern)"
   ]
  }
 ],
 "metadata": {
  "kernelspec": {
   "display_name": "Python 2",
   "language": "python",
   "name": "python2"
  },
  "language_info": {
   "codemirror_mode": {
    "name": "ipython",
    "version": 2
   },
   "file_extension": ".py",
   "mimetype": "text/x-python",
   "name": "python",
   "nbconvert_exporter": "python",
   "pygments_lexer": "ipython2",
   "version": "2.7.11"
  }
 },
 "nbformat": 4,
 "nbformat_minor": 0
}
